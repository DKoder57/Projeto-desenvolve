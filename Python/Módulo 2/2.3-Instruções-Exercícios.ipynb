{
  "cells": [
    {
      "cell_type": "markdown",
      "metadata": {
        "id": "1pCTdOHonv5f"
      },
      "source": [
        "# Módulo 2\n",
        "\n",
        "## 2.3 Instruções e Expressões\n",
        "\n",
        "### Q1\n",
        "\n",
        "Faça um programa que armazene o valor de 20 reais de salário por hora de um trabalhador, e o número de 40 horas trabalhadas na semana. Com essas informações, calcule e imprima:\n",
        "- Salário semanal bruto\n",
        "- Valor descontado por semana INSS (10% do bruto)\n",
        "- Valor descontado por semana pelo sindicato (5% do bruto)\n",
        "- Salário semanal líquido (Bruto - Descontos)"
      ]
    },
    {
      "cell_type": "code",
      "execution_count": null,
      "metadata": {
        "id": "hVbX0I97nj6M"
      },
      "outputs": [],
      "source": [
        "Salario_hora = 20\n",
        "Horas_p_semana = 40\n",
        "\n",
        "Salario_bruto = Salario_hora * Horas_p_semana\n",
        "desconto_INSS = Salario_bruto * 0.1\n",
        "desconto_sindicato = Salario_bruto * 0.05\n",
        "Salario_liquido = Salario_bruto - (desconto_INSS + desconto_sindicato)\n",
        "\n",
        "print(\"O salário bruto é: R$\", Salario_bruto)\n",
        "print(\"O desconto do INSS é: R$\", desconto_INSS)\n",
        "print(\"O desconto do sindicato é: R$\", desconto_sindicato)\n",
        "print(\"O salário líquido é: R$\", Salario_liquido)"
      ]
    },
    {
      "cell_type": "markdown",
      "metadata": {
        "id": "pIxKX9J2oGZ1"
      },
      "source": [
        "### Q2\n",
        "\n",
        "Altere o programa anterior para a partir dos valores de horas trabalhadas por semana e salário por hora, calcular **em somente duas instruções**:\n",
        "- Salário semanal bruto\n",
        "- Salário semanal líquido com todos os descontos. Para a segunda instrução, realize todos os cálculos aritméticos em uma expressão composta.\n"
      ]
    },
    {
      "cell_type": "code",
      "execution_count": null,
      "metadata": {
        "id": "pAHw9Xf9oGoi"
      },
      "outputs": [],
      "source": [
        "Salario_hora = 20\n",
        "Horas_p_semana = 40\n",
        "\n",
        "Salario_bruto = Salario_hora * Horas_p_semana\n",
        "Salario_liquido = Salario_bruto - (Salario_bruto * 0.1) - (Salario_bruto * 0.05)\n",
        "\n",
        "print(\"O salário bruto é: R$\", Salario_bruto)\n",
        "print(\"O salário líquido é: R$\", Salario_liquido)"
      ]
    },
    {
      "cell_type": "markdown",
      "metadata": {
        "id": "m8tlHRuWpBOB"
      },
      "source": [
        "### Q3\n",
        "\n",
        "Você está desenvolvendo um software de conversão de moeda e precisa calcular o valor equivalente em yuan chinês a partir de uma quantia em real. A taxa de câmbio é de 0.69 BRL (real) para 1 CNY (yuan). Escreva um programa que define em uma variável uma quantia em reais (BRL) e calcula o valor equivalente em yuan (CNY). Imprima o resultado."
      ]
    },
    {
      "cell_type": "code",
      "execution_count": 2,
      "metadata": {
        "id": "2bPw7uF6oeL9"
      },
      "outputs": [
        {
          "name": "stdout",
          "output_type": "stream",
          "text": [
            "O valor de R$1000 em Yuan Chinês é: 1449.2753623188407 Yuan\n"
          ]
        }
      ],
      "source": [
        "BRL = 1000\n",
        "Câmbio = 0.69\n",
        "Valor_em_Yuan = BRL / Câmbio\n",
        "print(\"O valor de R$1000 em Yuan Chinês é:\", Valor_em_Yuan, \"Yuan\")\n"
      ]
    },
    {
      "cell_type": "markdown",
      "metadata": {
        "id": "-Na3ltDCp74A"
      },
      "source": [
        "### Q4\n",
        "\n",
        "Você é um treinador de corrida e deseja calcular a velocidade média que um atleta precisa manter para completar a Maratona Internacional de São Silvestre, que tem uma distância total de 42.195 km. A fórmula para calcular a velocidade média ($v\\_media$) é dada por $v\\_media = \\frac{distancia}{tempo}$ . Escreva um programa em Python para calcular a velocidade média necessária para completar a maratona em 3 horas.\n",
        "\n",
        "**Calcule e imprima o resultado em metros/segundo**, ou seja, converta a distância de quilômetros para metros ($metro = \\frac{km}{1000}$) e a velocidade de horas para segundos $(segundo = \\frac{hora}{3600})$."
      ]
    },
    {
      "cell_type": "code",
      "execution_count": 10,
      "metadata": {
        "id": "Bn6l8kcSrE4L"
      },
      "outputs": [
        {
          "name": "stdout",
          "output_type": "stream",
          "text": [
            "A velocidade média é: 42.195 km/h\n",
            "126.58500000000001 km em 3 horas\n",
            "A velocidade média em m/s é: 151.902 m/s\n"
          ]
        }
      ],
      "source": [
        "tempo = 3\n",
        "distancia = tempo * 42.195\n",
        "Vm = distancia / tempo\n",
        "print(\"A velocidade média é:\", Vm, \"km/h\")\n",
        "print( distancia, \"km em\", tempo, \"horas\")\n",
        "print(\"A velocidade média em m/s é:\",(distancia/1000)/(tempo/3600), \"m/s\")\n"
      ]
    }
  ],
  "metadata": {
    "colab": {
      "provenance": []
    },
    "kernelspec": {
      "display_name": "Python 3",
      "name": "python3"
    },
    "language_info": {
      "codemirror_mode": {
        "name": "ipython",
        "version": 3
      },
      "file_extension": ".py",
      "mimetype": "text/x-python",
      "name": "python",
      "nbconvert_exporter": "python",
      "pygments_lexer": "ipython3",
      "version": "3.12.2"
    }
  },
  "nbformat": 4,
  "nbformat_minor": 0
}
